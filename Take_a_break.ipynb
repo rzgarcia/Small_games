{
 "cells": [
  {
   "cell_type": "code",
   "execution_count": 3,
   "metadata": {},
   "outputs": [
    {
     "name": "stdout",
     "output_type": "stream",
     "text": [
      "Wed Aug  8 20:45:11 2018\n",
      "Wed Aug  8 20:45:16 2018\n",
      "Wed Aug  8 20:45:21 2018\n",
      "This program started on Wed Aug  8 20:45:21 2018\n",
      "Wed Aug  8 20:45:26 2018\n",
      "Wed Aug  8 20:45:31 2018\n",
      "Wed Aug  8 20:45:37 2018\n"
     ]
    }
   ],
   "source": [
    "# %load take_a_break.py\n",
    "import webbrowser\n",
    "import time\n",
    "\n",
    "print (\"This program started on \" + time.ctime())"
   ]
  },
  {
   "cell_type": "markdown",
   "metadata": {},
   "source": [
    "#### method 1: using for in loop"
   ]
  },
  {
   "cell_type": "code",
   "execution_count": null,
   "metadata": {},
   "outputs": [],
   "source": [
    "n=[]\n",
    "for n in range(0,3):\n",
    "    time.sleep(5) #5 sec\n",
    "    webbrowser.open(\"https://www.youtube.com/watch?v=4bmUFRxNEIg\")\n",
    "    print(time.ctime())\n",
    "    n += 1"
   ]
  },
  {
   "cell_type": "markdown",
   "metadata": {},
   "source": [
    "#### method 2: using while loop"
   ]
  },
  {
   "cell_type": "code",
   "execution_count": null,
   "metadata": {},
   "outputs": [],
   "source": [
    "total_breaks = 3\n",
    "break_count = 0\n",
    "\n",
    "while break_count<total_breaks:\n",
    "    time.sleep(5) \n",
    "    webbrowser.open(\"https://www.youtube.com/watch?v=4bmUFRxNEIg\")\n",
    "    print(time.ctime())\n",
    "    break_count += 1"
   ]
  }
 ],
 "metadata": {
  "kernelspec": {
   "display_name": "Python [default]",
   "language": "python",
   "name": "python3"
  },
  "language_info": {
   "codemirror_mode": {
    "name": "ipython",
    "version": 3
   },
   "file_extension": ".py",
   "mimetype": "text/x-python",
   "name": "python",
   "nbconvert_exporter": "python",
   "pygments_lexer": "ipython3",
   "version": "3.6.4"
  }
 },
 "nbformat": 4,
 "nbformat_minor": 2
}
