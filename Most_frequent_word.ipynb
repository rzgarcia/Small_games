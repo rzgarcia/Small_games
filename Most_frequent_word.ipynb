{
 "cells": [
  {
   "cell_type": "code",
   "execution_count": 2,
   "metadata": {},
   "outputs": [
    {
     "name": "stdout",
     "output_type": "stream",
     "text": [
      "cat\n",
      "butter\n",
      "dddd\n",
      "down\n"
     ]
    }
   ],
   "source": [
    "# %load Most_frequent_word.py\n",
    "\"\"\"Complete the most_frequent() function below so that it returns the most frequently occurring word in a given *string*.\n",
    "If there is a tie for the most common word, return only one result, the first (tied) word in alphabetical order.\"\"\"\n",
    "\n",
    "def most_frequent(s):\n",
    "    \"\"\"Return the most frequently occuring word in s.\"\"\"\n",
    "    # HINT: Use the built-in split() function to transform the string s into an\n",
    "    #       array\n",
    "    words = s.split(' ')\n",
    "\n",
    "    # HINT: Sort the new array by using the built-in sorted() function or\n",
    "    #       .sort() list method\n",
    "    words.sort()\n",
    "\n",
    "\n",
    "    # HINT: Iterate through the array and count each occurance of every word\n",
    "    #       using the .count() list method\n",
    "    dict1 = dict((x,words.count(x)) for x in words)\n",
    "\n",
    "    # HINT: Find the number of times the most common word appears using max()\n",
    "    # HINT: Locate the index of the most frequently seen word\n",
    "    # HINT: Return the most frequent word. Remember that if there is a tie,\n",
    "    #       return the first (tied) word in alphabetical order.\n",
    "    result = [x for x, y in dict1.items() if y == max(dict1.values())]\n",
    " \n",
    "    # extract the first string one.\n",
    "    return result[0]\n",
    "\n",
    "def test_run():\n",
    "    #Output: ['cat']\n",
    "    print(most_frequent(\"cat bat mat cat bat cat\")) \n",
    "\n",
    "    #Output: ['butter']\n",
    "    print(most_frequent(\"betty bought a bit of butter but the butter was bitter\")) \n",
    "\n",
    "    #Output: ['dddd']\n",
    "    print(most_frequent('a bb bb ccc ccc ccc dddd dddd dddd dddd'))\n",
    "\n",
    "    #['down', 'falling']\n",
    "    print(most_frequent('london bridge is falling down falling down falling down london bridge is falling down my fair lady'))\n",
    "\n",
    "if __name__ == '__main__':\n",
    "    test_run()"
   ]
  }
 ],
 "metadata": {
  "kernelspec": {
   "display_name": "Python [default]",
   "language": "python",
   "name": "python3"
  },
  "language_info": {
   "codemirror_mode": {
    "name": "ipython",
    "version": 3
   },
   "file_extension": ".py",
   "mimetype": "text/x-python",
   "name": "python",
   "nbconvert_exporter": "python",
   "pygments_lexer": "ipython3",
   "version": "3.6.4"
  }
 },
 "nbformat": 4,
 "nbformat_minor": 2
}
