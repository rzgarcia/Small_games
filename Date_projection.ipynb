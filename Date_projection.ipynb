{
 "cells": [
  {
   "cell_type": "code",
   "execution_count": 2,
   "metadata": {},
   "outputs": [
    {
     "name": "stdout",
     "output_type": "stream",
     "text": [
      "All tests completed.\n"
     ]
    }
   ],
   "source": [
    "# %load Date_projection.py\n",
    "def which_date(start_date,time):\n",
    "    \"\"\"\n",
    "    This function takes as input a string depicting a date in YYYY/mm/dd\n",
    "    format and a string stating a time period in the form of \"X day(s)\" or\n",
    "    \"Y week(s)\". Output should be a string in form YYYY/mm/dd with the date\n",
    "    that is X days or Y weeks after the initial date.\n",
    "    \"\"\"\n",
    "    \n",
    "    from datetime import datetime, date, timedelta\n",
    "\n",
    "    #start_date = input('Please provid the date in YYYY/mm/dd format: ')\n",
    "    #time = input('Please provid the time period in the form of \"X day(s)\" or \"Y week(s)\": ')\n",
    "\n",
    "    # convert date string to datetime format\n",
    "    start_date = datetime.strptime(start_date, \"%Y/%m/%d\")\n",
    "    start_date = datetime.date(start_date)\n",
    "\n",
    "    # split duration number by days or weeks and convert the string type to integer\n",
    "    nDays = 0\n",
    "    if time.endswith((\"days\", \"day\")):\n",
    "        nDays = int(time.split(' ')[0])\n",
    "    \n",
    "    nWeeks = 0\n",
    "    if time.endswith((\"weeks\", \"week\")):\n",
    "        nWeeks = int(time.split(' ')[0])\n",
    "    \n",
    "    # convert the duration integer to datetime\n",
    "    duration = timedelta(days=nDays, weeks=nWeeks)\n",
    "    \n",
    "    # reconver the datetime to string\n",
    "    end_date = (start_date + duration).strftime('%Y/%m/%d')\n",
    "    return end_date\n",
    "    \n",
    "def test():\n",
    "    \"\"\"\n",
    "    Here are a few tests to check if your code is working correctly! This\n",
    "    function will be run when the Test Run button is selected. Additional\n",
    "    tests that are not part of this function will also be run when the Submit\n",
    "    Answer button is selected.\n",
    "    \"\"\"\n",
    "    assert which_date('2016/02/10','35 days') == '2016/03/16'\n",
    "    assert which_date('2016/12/21','3 weeks') == '2017/01/11'\n",
    "    assert which_date('2015/01/17','1 week') == '2015/01/24'\n",
    "    print(\"All tests completed.\")\n",
    "\n",
    "\n",
    "if __name__ == \"__main__\":\n",
    "    test()\n"
   ]
  }
 ],
 "metadata": {
  "kernelspec": {
   "display_name": "Python [default]",
   "language": "python",
   "name": "python3"
  },
  "language_info": {
   "codemirror_mode": {
    "name": "ipython",
    "version": 3
   },
   "file_extension": ".py",
   "mimetype": "text/x-python",
   "name": "python",
   "nbconvert_exporter": "python",
   "pygments_lexer": "ipython3",
   "version": "3.6.4"
  }
 },
 "nbformat": 4,
 "nbformat_minor": 2
}
