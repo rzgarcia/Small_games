{
 "cells": [
  {
   "cell_type": "code",
   "execution_count": 3,
   "metadata": {},
   "outputs": [
    {
     "name": "stdout",
     "output_type": "stream",
     "text": [
      "0\n"
     ]
    }
   ],
   "source": [
    "# %load Palindrome正反字.py\n",
    "###############################################\n",
    "#       Exercise by Websten from forums       #\n",
    "###############################################\n",
    "# A palindrome is a word or a phrase that reads \n",
    "# the same backwards as forwards. Make a program \n",
    "# that checks if a word is a palindrome. \n",
    "# If the word is a palindrome, print 0 to the terminal,\n",
    "# -1 otherwise. \n",
    "# The word contains lowercase letters a-z and \n",
    "# will be at least one character long.\n",
    "#\n",
    "### HINT! ###\n",
    "# You can read a string backwards with the following syntax:\n",
    "# string[::-1] - where the \"-1\" means one step back.\n",
    "# This exercise can be solved with only unit 1 knowledge\n",
    "# (no loops or conditions)\n",
    "\n",
    "word = \"madam\"\n",
    "# test case 2\n",
    "# word = \"madman\" # uncomment this to test\n",
    "\n",
    "###\n",
    "# YOUR CODE HERE. DO NOT DELETE THIS LINE OR ADD A word DEFINITION BELOW IT.\n",
    "###\n",
    "if word == word[::-1]:\n",
    "    is_palindrome = 0\n",
    "else:\n",
    "    is_palindrome = -1\n",
    "\n",
    "# TESTING\n",
    "print(is_palindrome)\n",
    "# >>> 0  # outcome if word == \"madam\"\n",
    "# >>> -1 # outcome if word == \"madman\""
   ]
  }
 ],
 "metadata": {
  "kernelspec": {
   "display_name": "Python [default]",
   "language": "python",
   "name": "python3"
  },
  "language_info": {
   "codemirror_mode": {
    "name": "ipython",
    "version": 3
   },
   "file_extension": ".py",
   "mimetype": "text/x-python",
   "name": "python",
   "nbconvert_exporter": "python",
   "pygments_lexer": "ipython3",
   "version": "3.6.4"
  }
 },
 "nbformat": 4,
 "nbformat_minor": 2
}
